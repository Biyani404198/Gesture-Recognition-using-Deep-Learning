{
  "cells": [
    {
      "cell_type": "markdown",
      "metadata": {
        "id": "WTJ6JqnxRrVa"
      },
      "source": [
        "# Gesture Recognition\n",
        "In this project, we are going to build a model that will be able to predict the 5 gestures correctly.\n",
        "The training data consists of a few hundred videos categorised into one of the five classes. Each video (typically 2-3 seconds long) is divided into a sequence of 30 frames(images).\n",
        "The data contains a 'train' and a 'val' folder with two CSV files for the two folders. These folders are in turn divided into subfolders where each subfolder represents a video of a particular gesture. Each subfolder, i.e. a video, contains 30 frames (or images). Note that all images in a particular video subfolder have the same dimensions but different videos may have different dimensions. Specifically, videos have two types of dimensions - either 360x360 or 120x160 (depending on the webcam used to record the videos). Hence, you will need to do some pre-processing to standardise the videos. \n",
        "\n",
        " \n",
        "\n",
        "Each row of the CSV file represents one video and contains three main pieces of information - the name of the subfolder containing the 30 images of the video, the name of the gesture and the numeric label (between 0-4) of the video.\n",
        "\n",
        " \n",
        "\n",
        "Our task is to train a model on the 'train' folder which performs well on the 'val' folder as well (as usually done in ML projects).\n",
        " \n",
        "\n",
        "To get started with the model building process, you first need to get the data on your storage. \n",
        "\n",
        "In order to get the data on the storage, perform the following steps in order\n",
        "\n",
        "Open the terminal\n",
        " g0 down https://drive.google.com/uc?id=1ehyrYBQ5rbQQe6yL4XbLWe3FMvuVUGiL\n"
      ]
    },
    {
      "cell_type": "code",
      "source": [
        "## Checking the GPU configuration\n",
        "!nvidia-smi"
      ],
      "metadata": {
        "colab": {
          "base_uri": "https://localhost:8080/"
        },
        "id": "2gzFbjP5lf8o",
        "outputId": "efd6b806-4883-40af-8eeb-6f486a101128"
      },
      "execution_count": 1,
      "outputs": [
        {
          "output_type": "stream",
          "name": "stdout",
          "text": [
            "Sun Apr  9 08:43:31 2023       \n",
            "+-----------------------------------------------------------------------------+\n",
            "| NVIDIA-SMI 525.85.12    Driver Version: 525.85.12    CUDA Version: 12.0     |\n",
            "|-------------------------------+----------------------+----------------------+\n",
            "| GPU  Name        Persistence-M| Bus-Id        Disp.A | Volatile Uncorr. ECC |\n",
            "| Fan  Temp  Perf  Pwr:Usage/Cap|         Memory-Usage | GPU-Util  Compute M. |\n",
            "|                               |                      |               MIG M. |\n",
            "|===============================+======================+======================|\n",
            "|   0  Tesla T4            Off  | 00000000:00:04.0 Off |                    0 |\n",
            "| N/A   69C    P8    12W /  70W |      0MiB / 15360MiB |      0%      Default |\n",
            "|                               |                      |                  N/A |\n",
            "+-------------------------------+----------------------+----------------------+\n",
            "                                                                               \n",
            "+-----------------------------------------------------------------------------+\n",
            "| Processes:                                                                  |\n",
            "|  GPU   GI   CI        PID   Type   Process name                  GPU Memory |\n",
            "|        ID   ID                                                   Usage      |\n",
            "|=============================================================================|\n",
            "|  No running processes found                                                 |\n",
            "+-----------------------------------------------------------------------------+\n"
          ]
        }
      ]
    },
    {
      "cell_type": "code",
      "source": [
        "from google.colab import drive\n",
        "drive.mount('/content/gdrive')"
      ],
      "metadata": {
        "colab": {
          "base_uri": "https://localhost:8080/"
        },
        "id": "SNCtLsvWmw5J",
        "outputId": "ffb16cc0-7fac-4600-e8b3-02d3a2043071"
      },
      "execution_count": 2,
      "outputs": [
        {
          "output_type": "stream",
          "name": "stdout",
          "text": [
            "Mounted at /content/gdrive\n"
          ]
        }
      ]
    },
    {
      "cell_type": "code",
      "execution_count": 3,
      "metadata": {
        "id": "iAonJ-zbRrVd"
      },
      "outputs": [],
      "source": [
        "import numpy as np\n",
        "import math\n",
        "import os\n",
        "from imageio import imread\n",
        "from skimage.transform import resize\n",
        "from skimage.io import imread, imshow\n",
        "import matplotlib.pyplot as plt\n",
        "import datetime\n",
        "import os\n",
        "import warnings\n",
        "import cv2\n",
        "warnings.filterwarnings(\"ignore\")"
      ]
    },
    {
      "cell_type": "markdown",
      "metadata": {
        "id": "pa2RcOreRrVf"
      },
      "source": [
        "We set the random seed so that the results don't vary drastically."
      ]
    },
    {
      "cell_type": "code",
      "execution_count": 4,
      "metadata": {
        "id": "gOwO0tWbRrVf"
      },
      "outputs": [],
      "source": [
        "np.random.seed(30)\n",
        "import random as rn\n",
        "rn.seed(30)\n",
        "from tensorflow import keras\n",
        "import tensorflow as tf\n",
        "tf.random.set_seed(30)"
      ]
    },
    {
      "cell_type": "markdown",
      "metadata": {
        "id": "otynXAcTRrVg"
      },
      "source": [
        "In this block, you read the folder names for training and validation. You also set the `batch_size` here. Note that you set the batch size in such a way that you are able to use the GPU in full capacity. You keep increasing the batch size until the machine throws an error."
      ]
    },
    {
      "cell_type": "code",
      "source": [
        "!unzip /content/gdrive/MyDrive/Project_data.zip>/dev/null"
      ],
      "metadata": {
        "id": "RF2ubu0emv1p"
      },
      "execution_count": 5,
      "outputs": []
    },
    {
      "cell_type": "markdown",
      "metadata": {
        "id": "Ve5S0807RrVg"
      },
      "source": [
        "**data path: /content/Project_data**"
      ]
    },
    {
      "cell_type": "code",
      "execution_count": 6,
      "metadata": {
        "id": "duguIhDgRrVg"
      },
      "outputs": [],
      "source": [
        "train_doc = np.random.permutation(open('/content/Project_data/train.csv').readlines())\n",
        "val_doc = np.random.permutation(open('/content/Project_data/val.csv').readlines())\n",
        "batch_size = 26"
      ]
    },
    {
      "cell_type": "code",
      "source": [
        "#crop and resize on a single image\n",
        "def crop_image(image):\n",
        "    if image.shape[1]==160:\n",
        "        image=resize(image[:,20:140,:],(84,84)).astype(np.float32)\n",
        "    else:\n",
        "        image=resize(image,(84,84)).astype(np.float32)\n",
        "    return image\n",
        "\n",
        "image=imread('/content/Project_data/train/WIN_20180926_16_39_19_Pro_Stop_new/WIN_20180926_16_39_19_Pro_00010.png')\n",
        "# Crop the image\n",
        "cropped_image = crop_image(image)\n",
        "# Resize the image\n",
        "resized_image = resize(cropped_image, (100, 100,3))\n",
        "# Display the original and processed images\n",
        "fig, axs = plt.subplots(1, 2)\n",
        "axs[0].imshow(image)\n",
        "axs[0].set_title('Original Image')\n",
        "axs[1].imshow(resized_image)\n",
        "axs[1].set_title('Processed Image')\n",
        "plt.show()"
      ],
      "metadata": {
        "colab": {
          "base_uri": "https://localhost:8080/",
          "height": 308
        },
        "id": "Qqw8vh_Auok6",
        "outputId": "2814812e-a9d8-4f66-e946-aa417269c048"
      },
      "execution_count": 7,
      "outputs": [
        {
          "output_type": "display_data",
          "data": {
            "text/plain": [
              "<Figure size 640x480 with 2 Axes>"
            ],
            "image/png": "[encoded data removed]"
          },
          "metadata": {}
        }
      ]
    },
    {
      "cell_type": "markdown",
      "metadata": {
        "id": "NCNHe3PCRrVh"
      },
      "source": [
        "## Generator\n",
        "This is one of the most important part of the code. The overall structure of the generator has been given. In the generator, you are going to preprocess the images as you have images of 2 different dimensions as well as create a batch of video frames. You have to experiment with `img_idx`, `y`,`z` and normalization such that you get high accuracy."
      ]
    },
    {
      "cell_type": "code",
      "execution_count": 8,
      "metadata": {
        "id": "ubsSN-wtRrVh"
      },
      "outputs": [],
      "source": [
        "def generator(source_path, folder_list, batch_size):\n",
        "    print( 'Source path = ', source_path, '; batch size =', batch_size)\n",
        "    img_idx = [0,1,2,4,6,8,10,12,14,16,18,20,22,24,26,27,28,29]\n",
        "    while True:\n",
        "        t = np.random.permutation(folder_list)\n",
        "        num_batches = int(len(t)/batch_size)\n",
        "        for batch in range(num_batches):\n",
        "            batch_data = np.zeros((batch_size,18,120,120,3))\n",
        "            batch_labels = np.zeros((batch_size,5))\n",
        "            for folder in range(batch_size):\n",
        "                imgs = os.listdir(source_path+'/'+ t[folder + (batch*batch_size)].split(';')[0])\n",
        "                for idx,item in enumerate(img_idx):\n",
        "                    image = imread(source_path+'/'+ t[folder + (batch*batch_size)].strip().split(';')[0]+'/'+imgs[item]).astype(np.float32)\n",
        "                    if image.shape[1] == 160:\n",
        "                        image = resize(image[:,20:140,:],(120,120)).astype(np.float32)\n",
        "                    else:\n",
        "                        image = resize(image,(120,120)).astype(np.float32)\n",
        "                    \n",
        "                    batch_data[folder,idx,:,:,0] = image[:,:,0] - 104\n",
        "                    batch_data[folder,idx,:,:,1] = image[:,:,1] - 117\n",
        "                    batch_data[folder,idx,:,:,2] = image[:,:,2] - 123\n",
        "                    \n",
        "                batch_labels[folder, int(t[folder + (batch*batch_size)].strip().split(';')[2])] = 1\n",
        "            yield batch_data, batch_labels\n",
        "\n",
        "        if (len(t)%batch_size) != 0:\n",
        "            batch_data = np.zeros((len(t)%batch_size,18,120,120,3))\n",
        "            batch_labels = np.zeros((len(t)%batch_size,5))\n",
        "            for folder in range(len(t)%batch_size):\n",
        "                imgs = os.listdir(source_path+'/'+ t[folder + (num_batches*batch_size)].split(';')[0])\n",
        "                for idx,item in enumerate(img_idx):\n",
        "                    image = imread(source_path+'/'+ t[folder + (num_batches*batch_size)].strip().split(';')[0]+'/'+imgs[item]).astype(np.float32)\n",
        "                    if image.shape[1] == 160:\n",
        "                        image = resize(image[:,20:140,:],(120,120)).astype(np.float32)\n",
        "                    else:\n",
        "                        image = resize(image,(120,120)).astype(np.float32)\n",
        "\n",
        "                    batch_data[folder,idx,:,:,0] = image[:,:,0] - 104\n",
        "                    batch_data[folder,idx,:,:,1] = image[:,:,1] - 117\n",
        "                    batch_data[folder,idx,:,:,2] = image[:,:,2] - 123\n",
        "\n",
        "                batch_labels[folder, int(t[folder + (num_batches*batch_size)].strip().split(';')[2])] = 1\n",
        "\n",
        "            yield batch_data, batch_labels"
      ]
    },
    {
      "cell_type": "markdown",
      "metadata": {
        "id": "29EAaNdqRrVi"
      },
      "source": [
        "Note here that a video is represented above in the generator as (number of images, height, width, number of channels). Take this into consideration while creating the model architecture."
      ]
    },
    {
      "cell_type": "code",
      "execution_count": 9,
      "metadata": {
        "colab": {
          "base_uri": "https://localhost:8080/"
        },
        "id": "mYLOeb3RRrVi",
        "outputId": "a6cdeac7-9afa-4187-c184-0cf119667ee5",
        "cellView": "code"
      },
      "outputs": [
        {
          "output_type": "stream",
          "name": "stdout",
          "text": [
            "# training sequences = 663\n",
            "# validation sequences = 100\n",
            "# epochs = 30\n"
          ]
        }
      ],
      "source": [
        "curr_dt_time = datetime.datetime.now()\n",
        "train_path = '/content/Project_data/train'\n",
        "val_path = '/content/Project_data/val'\n",
        "num_train_sequences = len(train_doc)\n",
        "print('# training sequences =', num_train_sequences)\n",
        "num_val_sequences = len(val_doc)\n",
        "print('# validation sequences =', num_val_sequences)\n",
        "num_epochs = 30\n",
        "print ('# epochs =', num_epochs)"
      ]
    },
    {
      "cell_type": "markdown",
      "metadata": {
        "id": "5UWobaL3RrVi"
      },
      "source": [
        "## Model\n",
        "Here you make the model using different functionalities that Keras provides. Remember to use `Conv3D` and `MaxPooling3D` and not `Conv2D` and `Maxpooling2D` for a 3D convolution model. You would want to use `TimeDistributed` while building a Conv2D + RNN model. Also remember that the last layer is the softmax. Design the network in such a way that the model is able to give good accuracy on the least number of parameters so that it can fit in the memory of the webcam."
      ]
    },
    {
      "cell_type": "markdown",
      "source": [
        "### 1. Conv3D"
      ],
      "metadata": {
        "id": "a0_aPzBAfQZ5"
      }
    },
    {
      "cell_type": "code",
      "execution_count": null,
      "metadata": {
        "id": "syel9mI4RrVj"
      },
      "outputs": [],
      "source": [
        "from keras.models import Sequential\n",
        "from keras.layers import Dense, GRU, Dropout, Flatten, BatchNormalization, Activation\n",
        "from keras.layers.convolutional import Conv3D, MaxPooling3D\n",
        "from keras.callbacks import ModelCheckpoint, ReduceLROnPlateau\n",
        "from keras import optimizers\n",
        "\n",
        "model = Sequential()\n",
        "model.add(Conv3D(64, (3,3,3), strides=(1,1,1), padding='same', input_shape=(18,120,120,3)))\n",
        "model.add(BatchNormalization())\n",
        "model.add(Activation('elu'))\n",
        "model.add(MaxPooling3D(pool_size=(2,2,1), strides=(2,2,1)))\n",
        "\n",
        "model.add(Conv3D(128, (3,3,3), strides=(1,1,1), padding='same'))\n",
        "model.add(BatchNormalization())\n",
        "model.add(Activation('elu'))\n",
        "model.add(MaxPooling3D(pool_size=(2,2,2), strides=(2,2,2)))\n",
        "\n",
        "# model.add(Dropout(0.25))\n",
        "\n",
        "model.add(Conv3D(256, (3,3,3), strides=(1,1,1), padding='same'))\n",
        "model.add(BatchNormalization())\n",
        "model.add(Activation('elu'))\n",
        "model.add(MaxPooling3D(pool_size=(2,2,2), strides=(2,2,2)))\n",
        "\n",
        "# model.add(Dropout(0.25))\n",
        "\n",
        "model.add(Conv3D(256, (3,3,3), strides=(1,1,1), padding='same'))\n",
        "model.add(BatchNormalization())\n",
        "model.add(Activation('elu'))\n",
        "model.add(MaxPooling3D(pool_size=(2,2,2), strides=(2,2,2)))\n",
        "\n",
        "model.add(Flatten())\n",
        "model.add(Dropout(0.5))\n",
        "model.add(Dense(512, activation='elu'))\n",
        "model.add(Dropout(0.5))\n",
        "model.add(Dense(5, activation='softmax'))"
      ]
    },
    {
      "cell_type": "markdown",
      "metadata": {
        "id": "n6x_GFgTRrVk"
      },
      "source": [
        "Now that you have written the model, the next step is to `compile` the model. When you print the `summary` of the model, you'll see the total number of parameters you have to train."
      ]
    },
    {
      "cell_type": "code",
      "execution_count": null,
      "metadata": {
        "scrolled": true,
        "colab": {
          "base_uri": "https://localhost:8080/"
        },
        "id": "B8lGXxKdRrVk",
        "outputId": "05c5afe7-51db-4431-98e4-f12ac101e205"
      },
      "outputs": [
        {
          "output_type": "stream",
          "name": "stdout",
          "text": [
            "Model: \"sequential_3\"\n",
            "_________________________________________________________________\n",
            " Layer (type)                Output Shape              Param #   \n",
            "=================================================================\n",
            " conv3d (Conv3D)             (None, 18, 120, 120, 64)  5248      \n",
            "                                                                 \n",
            " batch_normalization (BatchN  (None, 18, 120, 120, 64)  256      \n",
            " ormalization)                                                   \n",
            "                                                                 \n",
            " activation (Activation)     (None, 18, 120, 120, 64)  0         \n",
            "                                                                 \n",
            " max_pooling3d (MaxPooling3D  (None, 9, 60, 120, 64)   0         \n",
            " )                                                               \n",
            "                                                                 \n",
            " conv3d_1 (Conv3D)           (None, 9, 60, 120, 128)   221312    \n",
            "                                                                 \n",
            " batch_normalization_1 (Batc  (None, 9, 60, 120, 128)  512       \n",
            " hNormalization)                                                 \n",
            "                                                                 \n",
            " activation_1 (Activation)   (None, 9, 60, 120, 128)   0         \n",
            "                                                                 \n",
            " max_pooling3d_1 (MaxPooling  (None, 4, 30, 60, 128)   0         \n",
            " 3D)                                                             \n",
            "                                                                 \n",
            " conv3d_2 (Conv3D)           (None, 4, 30, 60, 256)    884992    \n",
            "                                                                 \n",
            " batch_normalization_2 (Batc  (None, 4, 30, 60, 256)   1024      \n",
            " hNormalization)                                                 \n",
            "                                                                 \n",
            " activation_2 (Activation)   (None, 4, 30, 60, 256)    0         \n",
            "                                                                 \n",
            " max_pooling3d_2 (MaxPooling  (None, 2, 15, 30, 256)   0         \n",
            " 3D)                                                             \n",
            "                                                                 \n",
            " conv3d_3 (Conv3D)           (None, 2, 15, 30, 256)    1769728   \n",
            "                                                                 \n",
            " batch_normalization_3 (Batc  (None, 2, 15, 30, 256)   1024      \n",
            " hNormalization)                                                 \n",
            "                                                                 \n",
            " activation_3 (Activation)   (None, 2, 15, 30, 256)    0         \n",
            "                                                                 \n",
            " max_pooling3d_3 (MaxPooling  (None, 1, 7, 15, 256)    0         \n",
            " 3D)                                                             \n",
            "                                                                 \n",
            " flatten_3 (Flatten)         (None, 26880)             0         \n",
            "                                                                 \n",
            " dropout_3 (Dropout)         (None, 26880)             0         \n",
            "                                                                 \n",
            " dense_9 (Dense)             (None, 512)               13763072  \n",
            "                                                                 \n",
            " dropout_4 (Dropout)         (None, 512)               0         \n",
            "                                                                 \n",
            " dense_10 (Dense)            (None, 5)                 2565      \n",
            "                                                                 \n",
            "=================================================================\n",
            "Total params: 16,649,733\n",
            "Trainable params: 16,648,325\n",
            "Non-trainable params: 1,408\n",
            "_________________________________________________________________\n",
            "None\n"
          ]
        }
      ],
      "source": [
        "sgd = optimizers.SGD(lr=0.001, decay=1e-6, momentum=0.7, nesterov=True)\n",
        "model.compile(optimizer=sgd, loss='categorical_crossentropy', metrics=['categorical_accuracy'])\n",
        "print (model.summary())"
      ]
    },
    {
      "cell_type": "markdown",
      "metadata": {
        "id": "2Gmx6KZURrVl"
      },
      "source": [
        "Let us create the `train_generator` and the `val_generator` which will be used in `.fit_generator`."
      ]
    },
    {
      "cell_type": "code",
      "execution_count": null,
      "metadata": {
        "id": "Gc52ympwRrVl"
      },
      "outputs": [],
      "source": [
        "train_generator = generator(train_path, train_doc, batch_size)\n",
        "val_generator = generator(val_path, val_doc, batch_size)"
      ]
    },
    {
      "cell_type": "code",
      "execution_count": null,
      "metadata": {
        "id": "WdV8C0x3RrVl",
        "colab": {
          "base_uri": "https://localhost:8080/"
        },
        "outputId": "45dcd7e1-c92a-4b6f-ca31-bd9605dae339"
      },
      "outputs": [
        {
          "output_type": "stream",
          "name": "stderr",
          "text": [
            "WARNING:tensorflow:`period` argument is deprecated. Please use `save_freq` to specify the frequency in number of batches seen.\n",
            "WARNING:tensorflow:`epsilon` argument is deprecated and will be removed, use `min_delta` instead.\n"
          ]
        }
      ],
      "source": [
        "model_name = 'model_conv3D' + '_' + str(curr_dt_time).replace(' ','').replace(':','_') + '/'\n",
        "    \n",
        "if not os.path.exists(model_name):\n",
        "    os.mkdir(model_name)\n",
        "        \n",
        "filepath = model_name + 'model-{epoch:05d}-{loss:.5f}-{categorical_accuracy:.5f}-{val_loss:.5f}-{val_categorical_accuracy:.5f}.h5'\n",
        "\n",
        "checkpoint = ModelCheckpoint(filepath, monitor='val_loss', verbose=1, save_best_only=False, save_weights_only=False, mode='auto', period=1)\n",
        "\n",
        "LR = ReduceLROnPlateau(monitor='val_loss', factor=0.5, patience=2, verbose=1, mode='min', epsilon=0.0001, cooldown=0, min_lr=0.00001)\n",
        "callbacks_list = [checkpoint, LR]"
      ]
    },
    {
      "cell_type": "markdown",
      "metadata": {
        "id": "BaxikIsYRrVl"
      },
      "source": [
        "The `steps_per_epoch` and `validation_steps` are used by `fit` method to decide the number of next() calls it need to make."
      ]
    },
    {
      "cell_type": "code",
      "execution_count": null,
      "metadata": {
        "id": "vP69ZVLtRrVm"
      },
      "outputs": [],
      "source": [
        "if (num_train_sequences%batch_size) == 0:\n",
        "    steps_per_epoch = int(num_train_sequences/batch_size)\n",
        "else:\n",
        "    steps_per_epoch = (num_train_sequences//batch_size) + 1\n",
        "\n",
        "if (num_val_sequences%batch_size) == 0:\n",
        "    validation_steps = int(num_val_sequences/batch_size)\n",
        "else:\n",
        "    validation_steps = (num_val_sequences//batch_size) + 1"
      ]
    },
    {
      "cell_type": "markdown",
      "metadata": {
        "id": "g4IIIMx6RrVm"
      },
      "source": [
        "Let us now fit the model. This will start training the model and with the help of the checkpoints, you'll be able to save the model at the end of each epoch."
      ]
    },
    {
      "cell_type": "code",
      "execution_count": null,
      "metadata": {
        "colab": {
          "base_uri": "https://localhost:8080/"
        },
        "id": "hQ5mLlt0RrVm",
        "outputId": "21796856-5a80-43bf-ce9a-f27a159efd05"
      },
      "outputs": [
        {
          "output_type": "stream",
          "name": "stdout",
          "text": [
            "Source path =  /content/Project_data/train ; batch size = 26\n",
            "Epoch 1/30\n",
            "26/26 [==============================] - ETA: 0s - loss: 3.7778 - categorical_accuracy: 0.3258Source path =  /content/Project_data/val ; batch size = 26\n",
            "\n",
            "Epoch 1: saving model to model_conv3D_2023-04-0807_43_28.962999/model-00001-3.77777-0.32579-6.35011-0.27000.h5\n",
            "26/26 [==============================] - 139s 5s/step - loss: 3.7778 - categorical_accuracy: 0.3258 - val_loss: 6.3501 - val_categorical_accuracy: 0.2700 - lr: 0.0010\n",
            "Epoch 2/30\n",
            "26/26 [==============================] - ETA: 0s - loss: 1.4670 - categorical_accuracy: 0.5113\n",
            "Epoch 2: saving model to model_conv3D_2023-04-0807_43_28.962999/model-00002-1.46702-0.51131-6.27074-0.25000.h5\n",
            "26/26 [==============================] - 123s 5s/step - loss: 1.4670 - categorical_accuracy: 0.5113 - val_loss: 6.2707 - val_categorical_accuracy: 0.2500 - lr: 0.0010\n",
            "Epoch 3/30\n",
            "26/26 [==============================] - ETA: 0s - loss: 1.2596 - categorical_accuracy: 0.5777\n",
            "Epoch 3: saving model to model_conv3D_2023-04-0807_43_28.962999/model-00003-1.25963-0.57768-4.16801-0.23000.h5\n",
            "26/26 [==============================] - 124s 5s/step - loss: 1.2596 - categorical_accuracy: 0.5777 - val_loss: 4.1680 - val_categorical_accuracy: 0.2300 - lr: 0.0010\n",
            "Epoch 4/30\n",
            "26/26 [==============================] - ETA: 0s - loss: 0.9591 - categorical_accuracy: 0.6637\n",
            "Epoch 4: saving model to model_conv3D_2023-04-0807_43_28.962999/model-00004-0.95909-0.66365-2.20802-0.36000.h5\n",
            "26/26 [==============================] - 123s 5s/step - loss: 0.9591 - categorical_accuracy: 0.6637 - val_loss: 2.2080 - val_categorical_accuracy: 0.3600 - lr: 0.0010\n",
            "Epoch 5/30\n",
            "26/26 [==============================] - ETA: 0s - loss: 0.9010 - categorical_accuracy: 0.6742\n",
            "Epoch 5: saving model to model_conv3D_2023-04-0807_43_28.962999/model-00005-0.90104-0.67421-1.51106-0.48000.h5\n",
            "26/26 [==============================] - 123s 5s/step - loss: 0.9010 - categorical_accuracy: 0.6742 - val_loss: 1.5111 - val_categorical_accuracy: 0.4800 - lr: 0.0010\n",
            "Epoch 6/30\n",
            "26/26 [==============================] - ETA: 0s - loss: 0.8283 - categorical_accuracy: 0.6983\n",
            "Epoch 6: saving model to model_conv3D_2023-04-0807_43_28.962999/model-00006-0.82831-0.69834-1.62439-0.48000.h5\n",
            "26/26 [==============================] - 125s 5s/step - loss: 0.8283 - categorical_accuracy: 0.6983 - val_loss: 1.6244 - val_categorical_accuracy: 0.4800 - lr: 0.0010\n",
            "Epoch 7/30\n",
            "26/26 [==============================] - ETA: 0s - loss: 0.7501 - categorical_accuracy: 0.7225\n",
            "Epoch 7: saving model to model_conv3D_2023-04-0807_43_28.962999/model-00007-0.75007-0.72247-0.98625-0.69000.h5\n",
            "26/26 [==============================] - 123s 5s/step - loss: 0.7501 - categorical_accuracy: 0.7225 - val_loss: 0.9862 - val_categorical_accuracy: 0.6900 - lr: 0.0010\n",
            "Epoch 8/30\n",
            "26/26 [==============================] - ETA: 0s - loss: 0.7445 - categorical_accuracy: 0.7225\n",
            "Epoch 8: saving model to model_conv3D_2023-04-0807_43_28.962999/model-00008-0.74454-0.72247-0.85252-0.71000.h5\n",
            "26/26 [==============================] - 123s 5s/step - loss: 0.7445 - categorical_accuracy: 0.7225 - val_loss: 0.8525 - val_categorical_accuracy: 0.7100 - lr: 0.0010\n",
            "Epoch 9/30\n",
            "26/26 [==============================] - ETA: 0s - loss: 0.6522 - categorical_accuracy: 0.7662\n",
            "Epoch 9: saving model to model_conv3D_2023-04-0807_43_28.962999/model-00009-0.65222-0.76621-0.95432-0.62000.h5\n",
            "26/26 [==============================] - 123s 5s/step - loss: 0.6522 - categorical_accuracy: 0.7662 - val_loss: 0.9543 - val_categorical_accuracy: 0.6200 - lr: 0.0010\n",
            "Epoch 10/30\n",
            "26/26 [==============================] - ETA: 0s - loss: 0.4868 - categorical_accuracy: 0.8054\n",
            "Epoch 10: saving model to model_conv3D_2023-04-0807_43_28.962999/model-00010-0.48676-0.80543-0.75106-0.70000.h5\n",
            "26/26 [==============================] - 124s 5s/step - loss: 0.4868 - categorical_accuracy: 0.8054 - val_loss: 0.7511 - val_categorical_accuracy: 0.7000 - lr: 0.0010\n",
            "Epoch 11/30\n",
            "26/26 [==============================] - ETA: 0s - loss: 0.5157 - categorical_accuracy: 0.8054\n",
            "Epoch 11: saving model to model_conv3D_2023-04-0807_43_28.962999/model-00011-0.51567-0.80543-0.80228-0.75000.h5\n",
            "26/26 [==============================] - 121s 5s/step - loss: 0.5157 - categorical_accuracy: 0.8054 - val_loss: 0.8023 - val_categorical_accuracy: 0.7500 - lr: 0.0010\n",
            "Epoch 12/30\n",
            "26/26 [==============================] - ETA: 0s - loss: 0.5597 - categorical_accuracy: 0.7949\n",
            "Epoch 12: saving model to model_conv3D_2023-04-0807_43_28.962999/model-00012-0.55972-0.79487-0.71501-0.76000.h5\n",
            "26/26 [==============================] - 121s 5s/step - loss: 0.5597 - categorical_accuracy: 0.7949 - val_loss: 0.7150 - val_categorical_accuracy: 0.7600 - lr: 0.0010\n",
            "Epoch 13/30\n",
            "26/26 [==============================] - ETA: 0s - loss: 0.4456 - categorical_accuracy: 0.8175\n",
            "Epoch 13: saving model to model_conv3D_2023-04-0807_43_28.962999/model-00013-0.44560-0.81750-0.67509-0.82000.h5\n",
            "26/26 [==============================] - 123s 5s/step - loss: 0.4456 - categorical_accuracy: 0.8175 - val_loss: 0.6751 - val_categorical_accuracy: 0.8200 - lr: 0.0010\n",
            "Epoch 14/30\n",
            "26/26 [==============================] - ETA: 0s - loss: 0.4136 - categorical_accuracy: 0.8567\n",
            "Epoch 14: saving model to model_conv3D_2023-04-0807_43_28.962999/model-00014-0.41357-0.85671-0.68621-0.73000.h5\n",
            "26/26 [==============================] - 125s 5s/step - loss: 0.4136 - categorical_accuracy: 0.8567 - val_loss: 0.6862 - val_categorical_accuracy: 0.7300 - lr: 0.0010\n",
            "Epoch 15/30\n",
            "26/26 [==============================] - ETA: 0s - loss: 0.4319 - categorical_accuracy: 0.8281\n",
            "Epoch 15: saving model to model_conv3D_2023-04-0807_43_28.962999/model-00015-0.43189-0.82805-0.89531-0.67000.h5\n",
            "\n",
            "Epoch 15: ReduceLROnPlateau reducing learning rate to 0.0005000000237487257.\n",
            "26/26 [==============================] - 125s 5s/step - loss: 0.4319 - categorical_accuracy: 0.8281 - val_loss: 0.8953 - val_categorical_accuracy: 0.6700 - lr: 0.0010\n",
            "Epoch 16/30\n",
            "26/26 [==============================] - ETA: 0s - loss: 0.3379 - categorical_accuracy: 0.8733\n",
            "Epoch 16: saving model to model_conv3D_2023-04-0807_43_28.962999/model-00016-0.33792-0.87330-0.65064-0.74000.h5\n",
            "26/26 [==============================] - 123s 5s/step - loss: 0.3379 - categorical_accuracy: 0.8733 - val_loss: 0.6506 - val_categorical_accuracy: 0.7400 - lr: 5.0000e-04\n",
            "Epoch 17/30\n",
            "26/26 [==============================] - ETA: 0s - loss: 0.3447 - categorical_accuracy: 0.8718\n",
            "Epoch 17: saving model to model_conv3D_2023-04-0807_43_28.962999/model-00017-0.34467-0.87179-0.67538-0.78000.h5\n",
            "26/26 [==============================] - 124s 5s/step - loss: 0.3447 - categorical_accuracy: 0.8718 - val_loss: 0.6754 - val_categorical_accuracy: 0.7800 - lr: 5.0000e-04\n",
            "Epoch 18/30\n",
            "26/26 [==============================] - ETA: 0s - loss: 0.2536 - categorical_accuracy: 0.8989\n",
            "Epoch 18: saving model to model_conv3D_2023-04-0807_43_28.962999/model-00018-0.25362-0.89894-0.61695-0.80000.h5\n",
            "26/26 [==============================] - 122s 5s/step - loss: 0.2536 - categorical_accuracy: 0.8989 - val_loss: 0.6170 - val_categorical_accuracy: 0.8000 - lr: 5.0000e-04\n",
            "Epoch 19/30\n",
            "26/26 [==============================] - ETA: 0s - loss: 0.2305 - categorical_accuracy: 0.8944\n",
            "Epoch 19: saving model to model_conv3D_2023-04-0807_43_28.962999/model-00019-0.23052-0.89442-0.73573-0.82000.h5\n",
            "26/26 [==============================] - 124s 5s/step - loss: 0.2305 - categorical_accuracy: 0.8944 - val_loss: 0.7357 - val_categorical_accuracy: 0.8200 - lr: 5.0000e-04\n",
            "Epoch 20/30\n",
            "26/26 [==============================] - ETA: 0s - loss: 0.2046 - categorical_accuracy: 0.9246\n",
            "Epoch 20: saving model to model_conv3D_2023-04-0807_43_28.962999/model-00020-0.20456-0.92459-0.47135-0.85000.h5\n",
            "26/26 [==============================] - 124s 5s/step - loss: 0.2046 - categorical_accuracy: 0.9246 - val_loss: 0.4713 - val_categorical_accuracy: 0.8500 - lr: 5.0000e-04\n",
            "Epoch 21/30\n",
            "26/26 [==============================] - ETA: 0s - loss: 0.2374 - categorical_accuracy: 0.9095\n",
            "Epoch 21: saving model to model_conv3D_2023-04-0807_43_28.962999/model-00021-0.23744-0.90950-0.78015-0.80000.h5\n",
            "26/26 [==============================] - 123s 5s/step - loss: 0.2374 - categorical_accuracy: 0.9095 - val_loss: 0.7802 - val_categorical_accuracy: 0.8000 - lr: 5.0000e-04\n",
            "Epoch 22/30\n",
            "26/26 [==============================] - ETA: 0s - loss: 0.1913 - categorical_accuracy: 0.9306\n",
            "Epoch 22: saving model to model_conv3D_2023-04-0807_43_28.962999/model-00022-0.19127-0.93062-0.67754-0.79000.h5\n",
            "\n",
            "Epoch 22: ReduceLROnPlateau reducing learning rate to 0.0002500000118743628.\n",
            "26/26 [==============================] - 124s 5s/step - loss: 0.1913 - categorical_accuracy: 0.9306 - val_loss: 0.6775 - val_categorical_accuracy: 0.7900 - lr: 5.0000e-04\n",
            "Epoch 23/30\n",
            "26/26 [==============================] - ETA: 0s - loss: 0.2038 - categorical_accuracy: 0.9246\n",
            "Epoch 23: saving model to model_conv3D_2023-04-0807_43_28.962999/model-00023-0.20379-0.92459-0.59415-0.86000.h5\n",
            "26/26 [==============================] - 124s 5s/step - loss: 0.2038 - categorical_accuracy: 0.9246 - val_loss: 0.5942 - val_categorical_accuracy: 0.8600 - lr: 2.5000e-04\n",
            "Epoch 24/30\n",
            "26/26 [==============================] - ETA: 0s - loss: 0.1994 - categorical_accuracy: 0.9201\n",
            "Epoch 24: saving model to model_conv3D_2023-04-0807_43_28.962999/model-00024-0.19941-0.92006-0.73045-0.80000.h5\n",
            "\n",
            "Epoch 24: ReduceLROnPlateau reducing learning rate to 0.0001250000059371814.\n",
            "26/26 [==============================] - 124s 5s/step - loss: 0.1994 - categorical_accuracy: 0.9201 - val_loss: 0.7304 - val_categorical_accuracy: 0.8000 - lr: 2.5000e-04\n",
            "Epoch 25/30\n",
            "26/26 [==============================] - ETA: 0s - loss: 0.1655 - categorical_accuracy: 0.9472\n",
            "Epoch 25: saving model to model_conv3D_2023-04-0807_43_28.962999/model-00025-0.16545-0.94721-0.70429-0.84000.h5\n",
            "26/26 [==============================] - 125s 5s/step - loss: 0.1655 - categorical_accuracy: 0.9472 - val_loss: 0.7043 - val_categorical_accuracy: 0.8400 - lr: 1.2500e-04\n",
            "Epoch 26/30\n",
            "26/26 [==============================] - ETA: 0s - loss: 0.1636 - categorical_accuracy: 0.9442\n",
            "Epoch 26: saving model to model_conv3D_2023-04-0807_43_28.962999/model-00026-0.16364-0.94419-0.70822-0.83000.h5\n",
            "\n",
            "Epoch 26: ReduceLROnPlateau reducing learning rate to 6.25000029685907e-05.\n",
            "26/26 [==============================] - 123s 5s/step - loss: 0.1636 - categorical_accuracy: 0.9442 - val_loss: 0.7082 - val_categorical_accuracy: 0.8300 - lr: 1.2500e-04\n",
            "Epoch 27/30\n",
            "26/26 [==============================] - ETA: 0s - loss: 0.1390 - categorical_accuracy: 0.9442\n",
            "Epoch 27: saving model to model_conv3D_2023-04-0807_43_28.962999/model-00027-0.13905-0.94419-0.60130-0.85000.h5\n",
            "26/26 [==============================] - 123s 5s/step - loss: 0.1390 - categorical_accuracy: 0.9442 - val_loss: 0.6013 - val_categorical_accuracy: 0.8500 - lr: 6.2500e-05\n",
            "Epoch 28/30\n",
            "26/26 [==============================] - ETA: 0s - loss: 0.1332 - categorical_accuracy: 0.9548\n",
            "Epoch 28: saving model to model_conv3D_2023-04-0807_43_28.962999/model-00028-0.13322-0.95475-0.62361-0.82000.h5\n",
            "\n",
            "Epoch 28: ReduceLROnPlateau reducing learning rate to 3.125000148429535e-05.\n",
            "26/26 [==============================] - 123s 5s/step - loss: 0.1332 - categorical_accuracy: 0.9548 - val_loss: 0.6236 - val_categorical_accuracy: 0.8200 - lr: 6.2500e-05\n",
            "Epoch 29/30\n",
            "26/26 [==============================] - ETA: 0s - loss: 0.1600 - categorical_accuracy: 0.9397\n",
            "Epoch 29: saving model to model_conv3D_2023-04-0807_43_28.962999/model-00029-0.16003-0.93967-0.69625-0.81000.h5\n",
            "26/26 [==============================] - 121s 5s/step - loss: 0.1600 - categorical_accuracy: 0.9397 - val_loss: 0.6962 - val_categorical_accuracy: 0.8100 - lr: 3.1250e-05\n",
            "Epoch 30/30\n",
            "26/26 [==============================] - ETA: 0s - loss: 0.1535 - categorical_accuracy: 0.9502\n",
            "Epoch 30: saving model to model_conv3D_2023-04-0807_43_28.962999/model-00030-0.15352-0.95023-0.60585-0.82000.h5\n",
            "\n",
            "Epoch 30: ReduceLROnPlateau reducing learning rate to 1.5625000742147677e-05.\n",
            "26/26 [==============================] - 125s 5s/step - loss: 0.1535 - categorical_accuracy: 0.9502 - val_loss: 0.6059 - val_categorical_accuracy: 0.8200 - lr: 3.1250e-05\n"
          ]
        },
        {
          "output_type": "execute_result",
          "data": {
            "text/plain": [
              "<keras.callbacks.History at 0x7f283cc03d30>"
            ]
          },
          "metadata": {},
          "execution_count": 33
        }
      ],
      "source": [
        "model.fit_generator(train_generator, steps_per_epoch=steps_per_epoch, epochs=num_epochs, verbose=1, \n",
        "                    callbacks=callbacks_list, validation_data=val_generator, \n",
        "                    validation_steps=validation_steps, class_weight=None, workers=1, initial_epoch=0)"
      ]
    },
    {
      "cell_type": "markdown",
      "source": [
        "### 2. CNN(VGG16)+RNN(Bidirectional LSTM)"
      ],
      "metadata": {
        "id": "hlAFu84yNaAY"
      }
    },
    {
      "cell_type": "code",
      "source": [
        "#model\n",
        "from keras.models import Sequential, Model\n",
        "from keras.layers import Dense, GRU, Dropout, Flatten, TimeDistributed, Bidirectional, LSTM\n",
        "from keras.callbacks import ModelCheckpoint, ReduceLROnPlateau\n",
        "from keras import optimizers\n",
        "from keras.applications.vgg16 import VGG16\n",
        "    \n",
        "base_model = VGG16(include_top=False, weights='imagenet', input_shape=(120,120,3),pooling='avg')\n",
        "x = base_model.output\n",
        "x = Flatten()(x)\n",
        "#x.add(Dropout(0.5))\n",
        "features = Dense(64, activation='relu')(x)\n",
        "conv_model = Model(inputs=base_model.input, outputs=features)\n",
        "    \n",
        "for layer in base_model.layers:\n",
        "    layer.trainable = False\n",
        "        \n",
        "model_sec = Sequential()\n",
        "model_sec.add(TimeDistributed(conv_model, input_shape=(18,120,120,3)))\n",
        "model_sec.add(Bidirectional(LSTM(64, return_sequences=True)))\n",
        "model_sec.add(GRU(32))\n",
        "model_sec.add(Dropout(0.5))\n",
        "model_sec.add(Dense(128, activation='relu'))\n",
        "model_sec.add(Dense(5, activation='softmax'))"
      ],
      "metadata": {
        "id": "DojSfQQXNby5"
      },
      "execution_count": null,
      "outputs": []
    },
    {
      "cell_type": "code",
      "source": [
        "sgd = optimizers.Adam(lr=0.001, decay=1e-6)\n",
        "model_sec.compile(optimizer=sgd, loss='categorical_crossentropy', metrics=['categorical_accuracy'])\n",
        "print (model_sec.summary())"
      ],
      "metadata": {
        "colab": {
          "base_uri": "https://localhost:8080/"
        },
        "id": "jIu7J3JeNk47",
        "outputId": "d4bc3f4d-f162-4ce1-f217-f8bc596c4478"
      },
      "execution_count": null,
      "outputs": [
        {
          "output_type": "stream",
          "name": "stdout",
          "text": [
            "Model: \"sequential_2\"\n",
            "_________________________________________________________________\n",
            " Layer (type)                Output Shape              Param #   \n",
            "=================================================================\n",
            " time_distributed_2 (TimeDis  (None, 18, 64)           14747520  \n",
            " tributed)                                                       \n",
            "                                                                 \n",
            " bidirectional_1 (Bidirectio  (None, 18, 128)          66048     \n",
            " nal)                                                            \n",
            "                                                                 \n",
            " gru_3 (GRU)                 (None, 32)                15552     \n",
            "                                                                 \n",
            " dropout_2 (Dropout)         (None, 32)                0         \n",
            "                                                                 \n",
            " dense_7 (Dense)             (None, 128)               4224      \n",
            "                                                                 \n",
            " dense_8 (Dense)             (None, 5)                 645       \n",
            "                                                                 \n",
            "=================================================================\n",
            "Total params: 14,833,989\n",
            "Trainable params: 119,301\n",
            "Non-trainable params: 14,714,688\n",
            "_________________________________________________________________\n",
            "None\n"
          ]
        }
      ]
    },
    {
      "cell_type": "code",
      "source": [
        "train_generator = generator(train_path, train_doc, batch_size)\n",
        "val_generator = generator(val_path, val_doc, batch_size)"
      ],
      "metadata": {
        "id": "Vhs7fPCCNwcN"
      },
      "execution_count": null,
      "outputs": []
    },
    {
      "cell_type": "code",
      "source": [
        "model_name = 'model_init_conv_lstm' + '_' + str(curr_dt_time).replace(' ','').replace(':','_') + '/'\n",
        "    \n",
        "if not os.path.exists(model_name):\n",
        "    os.mkdir(model_name)\n",
        "        \n",
        "filepath = model_name + 'model-{epoch:05d}-{loss:.5f}-{categorical_accuracy:.5f}-{val_loss:.5f}-{val_categorical_accuracy:.5f}.h5'\n",
        "\n",
        "checkpoint = ModelCheckpoint(filepath, monitor='val_loss', verbose=1, save_best_only=False, save_weights_only=False, mode='auto', period=1)\n",
        "\n",
        "LR = ReduceLROnPlateau(monitor='val_loss', factor=0.5, patience=2, verbose=1, mode='min', epsilon=0.0001, cooldown=0, min_lr=0.00001)\n",
        "callbacks_list = [checkpoint, LR]"
      ],
      "metadata": {
        "colab": {
          "base_uri": "https://localhost:8080/"
        },
        "id": "3GGutMLDOBg9",
        "outputId": "6d16eafb-5b8c-4028-ced5-2a89dd17a090"
      },
      "execution_count": null,
      "outputs": [
        {
          "output_type": "stream",
          "name": "stderr",
          "text": [
            "WARNING:tensorflow:`period` argument is deprecated. Please use `save_freq` to specify the frequency in number of batches seen.\n",
            "WARNING:tensorflow:`epsilon` argument is deprecated and will be removed, use `min_delta` instead.\n"
          ]
        }
      ]
    },
    {
      "cell_type": "code",
      "source": [
        "if (num_train_sequences%batch_size) == 0:\n",
        "    steps_per_epoch = int(num_train_sequences/batch_size)\n",
        "else:\n",
        "    steps_per_epoch = (num_train_sequences//batch_size) + 1\n",
        "\n",
        "if (num_val_sequences%batch_size) == 0:\n",
        "    validation_steps = int(num_val_sequences/batch_size)\n",
        "else:\n",
        "    validation_steps = (num_val_sequences//batch_size) + 1"
      ],
      "metadata": {
        "id": "erAyyIinOE6r"
      },
      "execution_count": null,
      "outputs": []
    },
    {
      "cell_type": "code",
      "source": [
        "model_sec.fit_generator(train_generator, steps_per_epoch=steps_per_epoch, epochs=num_epochs, verbose=1, \n",
        "                    callbacks=callbacks_list, validation_data=val_generator, \n",
        "                    validation_steps=validation_steps, class_weight=None, workers=1, initial_epoch=0)"
      ],
      "metadata": {
        "colab": {
          "base_uri": "https://localhost:8080/"
        },
        "id": "ukQXrfHZOHEN",
        "outputId": "bdaf1aa2-4a56-48a1-b3ed-30767db578b6"
      },
      "execution_count": null,
      "outputs": [
        {
          "output_type": "stream",
          "name": "stdout",
          "text": [
            "Source path =  /content/Project_data/train ; batch size = 26\n",
            "Epoch 1/30\n",
            "26/26 [==============================] - ETA: 0s - loss: 1.5959 - categorical_accuracy: 0.2549Source path =  /content/Project_data/val ; batch size = 26\n",
            "\n",
            "Epoch 1: saving model to model_init_conv_lstm_2023-04-0708_27_10.857507/model-00001-1.59589-0.25490-1.50351-0.38000.h5\n",
            "26/26 [==============================] - 136s 5s/step - loss: 1.5959 - categorical_accuracy: 0.2549 - val_loss: 1.5035 - val_categorical_accuracy: 0.3800 - lr: 0.0010\n",
            "Epoch 2/30\n",
            "26/26 [==============================] - ETA: 0s - loss: 1.4070 - categorical_accuracy: 0.4208\n",
            "Epoch 2: saving model to model_init_conv_lstm_2023-04-0708_27_10.857507/model-00002-1.40699-0.42081-1.26084-0.48000.h5\n",
            "26/26 [==============================] - 125s 5s/step - loss: 1.4070 - categorical_accuracy: 0.4208 - val_loss: 1.2608 - val_categorical_accuracy: 0.4800 - lr: 0.0010\n",
            "Epoch 3/30\n",
            "26/26 [==============================] - ETA: 0s - loss: 1.1341 - categorical_accuracy: 0.5309\n",
            "Epoch 3: saving model to model_init_conv_lstm_2023-04-0708_27_10.857507/model-00003-1.13413-0.53092-1.19486-0.47000.h5\n",
            "26/26 [==============================] - 128s 5s/step - loss: 1.1341 - categorical_accuracy: 0.5309 - val_loss: 1.1949 - val_categorical_accuracy: 0.4700 - lr: 0.0010\n",
            "Epoch 4/30\n",
            "26/26 [==============================] - ETA: 0s - loss: 0.9109 - categorical_accuracy: 0.6305\n",
            "Epoch 4: saving model to model_init_conv_lstm_2023-04-0708_27_10.857507/model-00004-0.91092-0.63047-0.82541-0.60000.h5\n",
            "26/26 [==============================] - 127s 5s/step - loss: 0.9109 - categorical_accuracy: 0.6305 - val_loss: 0.8254 - val_categorical_accuracy: 0.6000 - lr: 0.0010\n",
            "Epoch 5/30\n",
            "26/26 [==============================] - ETA: 0s - loss: 0.6569 - categorical_accuracy: 0.7240\n",
            "Epoch 5: saving model to model_init_conv_lstm_2023-04-0708_27_10.857507/model-00005-0.65686-0.72398-0.69040-0.72000.h5\n",
            "26/26 [==============================] - 128s 5s/step - loss: 0.6569 - categorical_accuracy: 0.7240 - val_loss: 0.6904 - val_categorical_accuracy: 0.7200 - lr: 0.0010\n",
            "Epoch 6/30\n",
            "26/26 [==============================] - ETA: 0s - loss: 0.5194 - categorical_accuracy: 0.8024\n",
            "Epoch 6: saving model to model_init_conv_lstm_2023-04-0708_27_10.857507/model-00006-0.51944-0.80241-0.67953-0.73000.h5\n",
            "26/26 [==============================] - 126s 5s/step - loss: 0.5194 - categorical_accuracy: 0.8024 - val_loss: 0.6795 - val_categorical_accuracy: 0.7300 - lr: 0.0010\n",
            "Epoch 7/30\n",
            "26/26 [==============================] - ETA: 0s - loss: 0.3581 - categorical_accuracy: 0.8824\n",
            "Epoch 7: saving model to model_init_conv_lstm_2023-04-0708_27_10.857507/model-00007-0.35812-0.88235-0.68016-0.70000.h5\n",
            "26/26 [==============================] - 142s 6s/step - loss: 0.3581 - categorical_accuracy: 0.8824 - val_loss: 0.6802 - val_categorical_accuracy: 0.7000 - lr: 0.0010\n",
            "Epoch 8/30\n",
            "26/26 [==============================] - ETA: 0s - loss: 0.2429 - categorical_accuracy: 0.9155\n",
            "Epoch 8: saving model to model_init_conv_lstm_2023-04-0708_27_10.857507/model-00008-0.24291-0.91554-0.77770-0.70000.h5\n",
            "\n",
            "Epoch 8: ReduceLROnPlateau reducing learning rate to 0.0005000000237487257.\n",
            "26/26 [==============================] - 128s 5s/step - loss: 0.2429 - categorical_accuracy: 0.9155 - val_loss: 0.7777 - val_categorical_accuracy: 0.7000 - lr: 0.0010\n",
            "Epoch 9/30\n",
            "26/26 [==============================] - ETA: 0s - loss: 0.1578 - categorical_accuracy: 0.9593\n",
            "Epoch 9: saving model to model_init_conv_lstm_2023-04-0708_27_10.857507/model-00009-0.15778-0.95928-0.72660-0.72000.h5\n",
            "26/26 [==============================] - 144s 6s/step - loss: 0.1578 - categorical_accuracy: 0.9593 - val_loss: 0.7266 - val_categorical_accuracy: 0.7200 - lr: 5.0000e-04\n",
            "Epoch 10/30\n",
            "26/26 [==============================] - ETA: 0s - loss: 0.0905 - categorical_accuracy: 0.9849\n",
            "Epoch 10: saving model to model_init_conv_lstm_2023-04-0708_27_10.857507/model-00010-0.09053-0.98492-0.70986-0.73000.h5\n",
            "\n",
            "Epoch 10: ReduceLROnPlateau reducing learning rate to 0.0002500000118743628.\n",
            "26/26 [==============================] - 145s 6s/step - loss: 0.0905 - categorical_accuracy: 0.9849 - val_loss: 0.7099 - val_categorical_accuracy: 0.7300 - lr: 5.0000e-04\n",
            "Epoch 11/30\n",
            "26/26 [==============================] - ETA: 0s - loss: 0.0616 - categorical_accuracy: 0.9925\n",
            "Epoch 11: saving model to model_init_conv_lstm_2023-04-0708_27_10.857507/model-00011-0.06164-0.99246-0.74256-0.72000.h5\n",
            "26/26 [==============================] - 145s 6s/step - loss: 0.0616 - categorical_accuracy: 0.9925 - val_loss: 0.7426 - val_categorical_accuracy: 0.7200 - lr: 2.5000e-04\n",
            "Epoch 12/30\n",
            "26/26 [==============================] - ETA: 0s - loss: 0.0447 - categorical_accuracy: 0.9985\n",
            "Epoch 12: saving model to model_init_conv_lstm_2023-04-0708_27_10.857507/model-00012-0.04465-0.99849-0.86418-0.74000.h5\n",
            "\n",
            "Epoch 12: ReduceLROnPlateau reducing learning rate to 0.0001250000059371814.\n",
            "26/26 [==============================] - 129s 5s/step - loss: 0.0447 - categorical_accuracy: 0.9985 - val_loss: 0.8642 - val_categorical_accuracy: 0.7400 - lr: 2.5000e-04\n",
            "Epoch 13/30\n",
            "26/26 [==============================] - ETA: 0s - loss: 0.0419 - categorical_accuracy: 0.9985\n",
            "Epoch 13: saving model to model_init_conv_lstm_2023-04-0708_27_10.857507/model-00013-0.04194-0.99849-0.81951-0.74000.h5\n",
            "26/26 [==============================] - 146s 6s/step - loss: 0.0419 - categorical_accuracy: 0.9985 - val_loss: 0.8195 - val_categorical_accuracy: 0.7400 - lr: 1.2500e-04\n",
            "Epoch 14/30\n",
            "26/26 [==============================] - ETA: 0s - loss: 0.0403 - categorical_accuracy: 0.9985\n",
            "Epoch 14: saving model to model_init_conv_lstm_2023-04-0708_27_10.857507/model-00014-0.04034-0.99849-0.70179-0.74000.h5\n",
            "\n",
            "Epoch 14: ReduceLROnPlateau reducing learning rate to 6.25000029685907e-05.\n",
            "26/26 [==============================] - 129s 5s/step - loss: 0.0403 - categorical_accuracy: 0.9985 - val_loss: 0.7018 - val_categorical_accuracy: 0.7400 - lr: 1.2500e-04\n",
            "Epoch 15/30\n",
            "26/26 [==============================] - ETA: 0s - loss: 0.0404 - categorical_accuracy: 0.9955\n",
            "Epoch 15: saving model to model_init_conv_lstm_2023-04-0708_27_10.857507/model-00015-0.04041-0.99548-0.85368-0.74000.h5\n",
            "26/26 [==============================] - 132s 5s/step - loss: 0.0404 - categorical_accuracy: 0.9955 - val_loss: 0.8537 - val_categorical_accuracy: 0.7400 - lr: 6.2500e-05\n",
            "Epoch 16/30\n",
            "26/26 [==============================] - ETA: 0s - loss: 0.0339 - categorical_accuracy: 0.9970\n",
            "Epoch 16: saving model to model_init_conv_lstm_2023-04-0708_27_10.857507/model-00016-0.03390-0.99698-0.66022-0.79000.h5\n",
            "26/26 [==============================] - 124s 5s/step - loss: 0.0339 - categorical_accuracy: 0.9970 - val_loss: 0.6602 - val_categorical_accuracy: 0.7900 - lr: 6.2500e-05\n",
            "Epoch 17/30\n",
            "26/26 [==============================] - ETA: 0s - loss: 0.0351 - categorical_accuracy: 1.0000\n",
            "Epoch 17: saving model to model_init_conv_lstm_2023-04-0708_27_10.857507/model-00017-0.03512-1.00000-0.81214-0.75000.h5\n",
            "26/26 [==============================] - 121s 5s/step - loss: 0.0351 - categorical_accuracy: 1.0000 - val_loss: 0.8121 - val_categorical_accuracy: 0.7500 - lr: 6.2500e-05\n",
            "Epoch 18/30\n",
            "26/26 [==============================] - ETA: 0s - loss: 0.0354 - categorical_accuracy: 0.9940\n",
            "Epoch 18: saving model to model_init_conv_lstm_2023-04-0708_27_10.857507/model-00018-0.03541-0.99397-0.82940-0.72000.h5\n",
            "\n",
            "Epoch 18: ReduceLROnPlateau reducing learning rate to 3.125000148429535e-05.\n",
            "26/26 [==============================] - 122s 5s/step - loss: 0.0354 - categorical_accuracy: 0.9940 - val_loss: 0.8294 - val_categorical_accuracy: 0.7200 - lr: 6.2500e-05\n",
            "Epoch 19/30\n",
            "26/26 [==============================] - ETA: 0s - loss: 0.0323 - categorical_accuracy: 0.9955\n",
            "Epoch 19: saving model to model_init_conv_lstm_2023-04-0708_27_10.857507/model-00019-0.03229-0.99548-0.76987-0.76000.h5\n",
            "26/26 [==============================] - 122s 5s/step - loss: 0.0323 - categorical_accuracy: 0.9955 - val_loss: 0.7699 - val_categorical_accuracy: 0.7600 - lr: 3.1250e-05\n",
            "Epoch 20/30\n",
            "26/26 [==============================] - ETA: 0s - loss: 0.0368 - categorical_accuracy: 0.9940\n",
            "Epoch 20: saving model to model_init_conv_lstm_2023-04-0708_27_10.857507/model-00020-0.03683-0.99397-0.80254-0.76000.h5\n",
            "\n",
            "Epoch 20: ReduceLROnPlateau reducing learning rate to 1.5625000742147677e-05.\n",
            "26/26 [==============================] - 118s 5s/step - loss: 0.0368 - categorical_accuracy: 0.9940 - val_loss: 0.8025 - val_categorical_accuracy: 0.7600 - lr: 3.1250e-05\n",
            "Epoch 21/30\n",
            "26/26 [==============================] - ETA: 0s - loss: 0.0386 - categorical_accuracy: 0.9970\n",
            "Epoch 21: saving model to model_init_conv_lstm_2023-04-0708_27_10.857507/model-00021-0.03858-0.99698-0.82578-0.75000.h5\n",
            "26/26 [==============================] - 123s 5s/step - loss: 0.0386 - categorical_accuracy: 0.9970 - val_loss: 0.8258 - val_categorical_accuracy: 0.7500 - lr: 1.5625e-05\n",
            "Epoch 22/30\n",
            "26/26 [==============================] - ETA: 0s - loss: 0.0317 - categorical_accuracy: 0.9985\n",
            "Epoch 22: saving model to model_init_conv_lstm_2023-04-0708_27_10.857507/model-00022-0.03168-0.99849-0.81121-0.75000.h5\n",
            "\n",
            "Epoch 22: ReduceLROnPlateau reducing learning rate to 1e-05.\n",
            "26/26 [==============================] - 121s 5s/step - loss: 0.0317 - categorical_accuracy: 0.9985 - val_loss: 0.8112 - val_categorical_accuracy: 0.7500 - lr: 1.5625e-05\n",
            "Epoch 23/30\n",
            "26/26 [==============================] - ETA: 0s - loss: 0.0320 - categorical_accuracy: 0.9985\n",
            "Epoch 23: saving model to model_init_conv_lstm_2023-04-0708_27_10.857507/model-00023-0.03202-0.99849-1.10291-0.70000.h5\n",
            "26/26 [==============================] - 123s 5s/step - loss: 0.0320 - categorical_accuracy: 0.9985 - val_loss: 1.1029 - val_categorical_accuracy: 0.7000 - lr: 1.0000e-05\n",
            "Epoch 24/30\n",
            "26/26 [==============================] - ETA: 0s - loss: 0.0272 - categorical_accuracy: 0.9970\n",
            "Epoch 24: saving model to model_init_conv_lstm_2023-04-0708_27_10.857507/model-00024-0.02724-0.99698-0.65780-0.80000.h5\n",
            "26/26 [==============================] - 119s 5s/step - loss: 0.0272 - categorical_accuracy: 0.9970 - val_loss: 0.6578 - val_categorical_accuracy: 0.8000 - lr: 1.0000e-05\n",
            "Epoch 25/30\n",
            "26/26 [==============================] - ETA: 0s - loss: 0.0318 - categorical_accuracy: 0.9985\n",
            "Epoch 25: saving model to model_init_conv_lstm_2023-04-0708_27_10.857507/model-00025-0.03176-0.99849-0.83368-0.75000.h5\n",
            "26/26 [==============================] - 138s 6s/step - loss: 0.0318 - categorical_accuracy: 0.9985 - val_loss: 0.8337 - val_categorical_accuracy: 0.7500 - lr: 1.0000e-05\n",
            "Epoch 26/30\n",
            "26/26 [==============================] - ETA: 0s - loss: 0.0279 - categorical_accuracy: 0.9985\n",
            "Epoch 26: saving model to model_init_conv_lstm_2023-04-0708_27_10.857507/model-00026-0.02789-0.99849-0.64945-0.79000.h5\n",
            "26/26 [==============================] - 138s 6s/step - loss: 0.0279 - categorical_accuracy: 0.9985 - val_loss: 0.6495 - val_categorical_accuracy: 0.7900 - lr: 1.0000e-05\n",
            "Epoch 27/30\n",
            "26/26 [==============================] - ETA: 0s - loss: 0.0326 - categorical_accuracy: 1.0000\n",
            "Epoch 27: saving model to model_init_conv_lstm_2023-04-0708_27_10.857507/model-00027-0.03260-1.00000-0.93609-0.75000.h5\n",
            "26/26 [==============================] - 119s 5s/step - loss: 0.0326 - categorical_accuracy: 1.0000 - val_loss: 0.9361 - val_categorical_accuracy: 0.7500 - lr: 1.0000e-05\n",
            "Epoch 28/30\n",
            "26/26 [==============================] - ETA: 0s - loss: 0.0272 - categorical_accuracy: 1.0000\n",
            "Epoch 28: saving model to model_init_conv_lstm_2023-04-0708_27_10.857507/model-00028-0.02722-1.00000-0.79027-0.74000.h5\n",
            "26/26 [==============================] - 116s 5s/step - loss: 0.0272 - categorical_accuracy: 1.0000 - val_loss: 0.7903 - val_categorical_accuracy: 0.7400 - lr: 1.0000e-05\n",
            "Epoch 29/30\n",
            "26/26 [==============================] - ETA: 0s - loss: 0.0265 - categorical_accuracy: 0.9985\n",
            "Epoch 29: saving model to model_init_conv_lstm_2023-04-0708_27_10.857507/model-00029-0.02647-0.99849-0.84108-0.74000.h5\n",
            "26/26 [==============================] - 120s 5s/step - loss: 0.0265 - categorical_accuracy: 0.9985 - val_loss: 0.8411 - val_categorical_accuracy: 0.7400 - lr: 1.0000e-05\n",
            "Epoch 30/30\n",
            "26/26 [==============================] - ETA: 0s - loss: 0.0286 - categorical_accuracy: 0.9985\n",
            "Epoch 30: saving model to model_init_conv_lstm_2023-04-0708_27_10.857507/model-00030-0.02864-0.99849-0.82132-0.72000.h5\n",
            "26/26 [==============================] - 118s 5s/step - loss: 0.0286 - categorical_accuracy: 0.9985 - val_loss: 0.8213 - val_categorical_accuracy: 0.7200 - lr: 1.0000e-05\n"
          ]
        },
        {
          "output_type": "execute_result",
          "data": {
            "text/plain": [
              "<keras.callbacks.History at 0x7f4ecad35d00>"
            ]
          },
          "metadata": {},
          "execution_count": 27
        }
      ]
    },
    {
      "cell_type": "markdown",
      "source": [
        "### 3. CNN(ResNet50)+RNN(Bidirectional GRU)"
      ],
      "metadata": {
        "id": "aBufzT7Kf9OU"
      }
    },
    {
      "cell_type": "code",
      "source": [
        "#model\n",
        "from keras.models import Sequential, Model\n",
        "from keras.layers import Dense, GRU, Dropout, Flatten, TimeDistributed, Bidirectional, LSTM\n",
        "from keras.callbacks import ModelCheckpoint, ReduceLROnPlateau\n",
        "from keras import optimizers\n",
        "from keras.applications.resnet import ResNet50\n",
        "    \n",
        "base_model = ResNet50(include_top=False, weights='imagenet', input_shape=(120,120,3),pooling='max')\n",
        "x = base_model.output\n",
        "x = Flatten()(x)\n",
        "features = Dense(128, activation='relu')(x)\n",
        "conv_model = Model(inputs=base_model.input, outputs=features)\n",
        "    \n",
        "for layer in base_model.layers:\n",
        "    layer.trainable = False\n",
        "        \n",
        "model_three = Sequential()\n",
        "model_three.add(TimeDistributed(conv_model, input_shape=(18,120,120,3)))\n",
        "model_three.add(Bidirectional(GRU(32, return_sequences=True)))\n",
        "model_three.add(GRU(16))\n",
        "model_three.add(Dropout(0.5))\n",
        "model_three.add(Dense(64, activation='relu'))\n",
        "model_three.add(Dense(5, activation='softmax'))"
      ],
      "metadata": {
        "id": "Elwv-NfiO1Cr",
        "colab": {
          "base_uri": "https://localhost:8080/"
        },
        "outputId": "28b0c9c1-a3df-466a-884a-abbac4e6e016"
      },
      "execution_count": null,
      "outputs": [
        {
          "output_type": "stream",
          "name": "stdout",
          "text": [
            "Downloading data from https://storage.googleapis.com/tensorflow/keras-applications/resnet/resnet50_weights_tf_dim_ordering_tf_kernels_notop.h5\n",
            "94765736/94765736 [==============================] - 1s 0us/step\n"
          ]
        }
      ]
    },
    {
      "cell_type": "code",
      "source": [
        "sgd = optimizers.Adam(lr=0.001, decay=1e-6)\n",
        "model_three.compile(optimizer=sgd, loss='categorical_crossentropy', metrics=['categorical_accuracy'])\n",
        "print (model_three.summary())"
      ],
      "metadata": {
        "id": "pIZs0IRedLfL",
        "colab": {
          "base_uri": "https://localhost:8080/"
        },
        "outputId": "4f8250ac-f2e7-493a-cd90-e162788104bd"
      },
      "execution_count": null,
      "outputs": [
        {
          "output_type": "stream",
          "name": "stdout",
          "text": [
            "Model: \"sequential\"\n",
            "_________________________________________________________________\n",
            " Layer (type)                Output Shape              Param #   \n",
            "=================================================================\n",
            " time_distributed (TimeDistr  (None, 18, 128)          23849984  \n",
            " ibuted)                                                         \n",
            "                                                                 \n",
            " bidirectional (Bidirectiona  (None, 18, 64)           31104     \n",
            " l)                                                              \n",
            "                                                                 \n",
            " gru_1 (GRU)                 (None, 16)                3936      \n",
            "                                                                 \n",
            " dropout (Dropout)           (None, 16)                0         \n",
            "                                                                 \n",
            " dense_1 (Dense)             (None, 64)                1088      \n",
            "                                                                 \n",
            " dense_2 (Dense)             (None, 5)                 325       \n",
            "                                                                 \n",
            "=================================================================\n",
            "Total params: 23,886,437\n",
            "Trainable params: 298,725\n",
            "Non-trainable params: 23,587,712\n",
            "_________________________________________________________________\n",
            "None\n"
          ]
        }
      ]
    },
    {
      "cell_type": "code",
      "source": [
        "train_generator = generator(train_path, train_doc, batch_size)\n",
        "val_generator = generator(val_path, val_doc, batch_size)"
      ],
      "metadata": {
        "id": "MToIoNv4dLfM"
      },
      "execution_count": null,
      "outputs": []
    },
    {
      "cell_type": "code",
      "source": [
        "model_name = 'model_init_conv_gru' + '_' + str(curr_dt_time).replace(' ','').replace(':','_') + '/'\n",
        "    \n",
        "if not os.path.exists(model_name):\n",
        "    os.mkdir(model_name)\n",
        "        \n",
        "filepath = model_name + 'model-{epoch:05d}-{loss:.5f}-{categorical_accuracy:.5f}-{val_loss:.5f}-{val_categorical_accuracy:.5f}.h5'\n",
        "\n",
        "checkpoint = ModelCheckpoint(filepath, monitor='val_loss', verbose=1, save_best_only=False, save_weights_only=False, mode='auto', period=1)\n",
        "\n",
        "LR = ReduceLROnPlateau(monitor='val_loss', factor=0.5, patience=2, verbose=1, mode='min', epsilon=0.0001, cooldown=0, min_lr=0.00001)\n",
        "callbacks_list = [checkpoint, LR]"
      ],
      "metadata": {
        "colab": {
          "base_uri": "https://localhost:8080/"
        },
        "outputId": "b760345c-f18d-4362-e233-b8b4cd55a8a4",
        "id": "2eck4b4RdLfM"
      },
      "execution_count": null,
      "outputs": [
        {
          "output_type": "stream",
          "name": "stderr",
          "text": [
            "WARNING:tensorflow:`period` argument is deprecated. Please use `save_freq` to specify the frequency in number of batches seen.\n",
            "WARNING:tensorflow:`epsilon` argument is deprecated and will be removed, use `min_delta` instead.\n"
          ]
        }
      ]
    },
    {
      "cell_type": "code",
      "source": [
        "if (num_train_sequences%batch_size) == 0:\n",
        "    steps_per_epoch = int(num_train_sequences/batch_size)\n",
        "else:\n",
        "    steps_per_epoch = (num_train_sequences//batch_size) + 1\n",
        "\n",
        "if (num_val_sequences%batch_size) == 0:\n",
        "    validation_steps = int(num_val_sequences/batch_size)\n",
        "else:\n",
        "    validation_steps = (num_val_sequences//batch_size) + 1"
      ],
      "metadata": {
        "id": "lo7EpM0AdLfM"
      },
      "execution_count": null,
      "outputs": []
    },
    {
      "cell_type": "code",
      "source": [
        "model_three.fit_generator(train_generator, steps_per_epoch=steps_per_epoch, epochs=num_epochs, verbose=1, \n",
        "                    callbacks=callbacks_list, validation_data=val_generator, \n",
        "                    validation_steps=validation_steps, class_weight=None, workers=1, initial_epoch=0)"
      ],
      "metadata": {
        "colab": {
          "base_uri": "https://localhost:8080/"
        },
        "outputId": "7920229b-799d-4b3f-ef83-cf6ea97e71cd",
        "id": "s9OLcdHodLfN"
      },
      "execution_count": null,
      "outputs": [
        {
          "output_type": "stream",
          "name": "stdout",
          "text": [
            "Source path =  /content/Project_data/train ; batch size = 26\n",
            "Epoch 1/30\n",
            "26/26 [==============================] - ETA: 0s - loss: 1.5715 - categorical_accuracy: 0.2594Source path =  /content/Project_data/val ; batch size = 26\n",
            "\n",
            "Epoch 1: saving model to model_init_conv_gru_2023-04-0816_09_56.565715/model-00001-1.57155-0.25943-1.42949-0.50000.h5\n",
            "26/26 [==============================] - 149s 5s/step - loss: 1.5715 - categorical_accuracy: 0.2594 - val_loss: 1.4295 - val_categorical_accuracy: 0.5000 - lr: 0.0010\n",
            "Epoch 2/30\n",
            "26/26 [==============================] - ETA: 0s - loss: 1.4327 - categorical_accuracy: 0.3680\n",
            "Epoch 2: saving model to model_init_conv_gru_2023-04-0816_09_56.565715/model-00002-1.43267-0.36802-1.29502-0.47000.h5\n",
            "26/26 [==============================] - 120s 5s/step - loss: 1.4327 - categorical_accuracy: 0.3680 - val_loss: 1.2950 - val_categorical_accuracy: 0.4700 - lr: 0.0010\n",
            "Epoch 3/30\n",
            "26/26 [==============================] - ETA: 0s - loss: 1.3026 - categorical_accuracy: 0.4661\n",
            "Epoch 3: saving model to model_init_conv_gru_2023-04-0816_09_56.565715/model-00003-1.30263-0.46606-1.12020-0.56000.h5\n",
            "26/26 [==============================] - 117s 5s/step - loss: 1.3026 - categorical_accuracy: 0.4661 - val_loss: 1.1202 - val_categorical_accuracy: 0.5600 - lr: 0.0010\n",
            "Epoch 4/30\n",
            "26/26 [==============================] - ETA: 0s - loss: 1.1976 - categorical_accuracy: 0.4796\n",
            "Epoch 4: saving model to model_init_conv_gru_2023-04-0816_09_56.565715/model-00004-1.19764-0.47964-1.03666-0.59000.h5\n",
            "26/26 [==============================] - 118s 5s/step - loss: 1.1976 - categorical_accuracy: 0.4796 - val_loss: 1.0367 - val_categorical_accuracy: 0.5900 - lr: 0.0010\n",
            "Epoch 5/30\n",
            "26/26 [==============================] - ETA: 0s - loss: 1.0477 - categorical_accuracy: 0.5686\n",
            "Epoch 5: saving model to model_init_conv_gru_2023-04-0816_09_56.565715/model-00005-1.04770-0.56863-0.98163-0.57000.h5\n",
            "26/26 [==============================] - 118s 5s/step - loss: 1.0477 - categorical_accuracy: 0.5686 - val_loss: 0.9816 - val_categorical_accuracy: 0.5700 - lr: 0.0010\n",
            "Epoch 6/30\n",
            "26/26 [==============================] - ETA: 0s - loss: 0.9810 - categorical_accuracy: 0.5611\n",
            "Epoch 6: saving model to model_init_conv_gru_2023-04-0816_09_56.565715/model-00006-0.98104-0.56109-0.88578-0.65000.h5\n",
            "26/26 [==============================] - 118s 5s/step - loss: 0.9810 - categorical_accuracy: 0.5611 - val_loss: 0.8858 - val_categorical_accuracy: 0.6500 - lr: 0.0010\n",
            "Epoch 7/30\n",
            "26/26 [==============================] - ETA: 0s - loss: 0.9580 - categorical_accuracy: 0.5897\n",
            "Epoch 7: saving model to model_init_conv_gru_2023-04-0816_09_56.565715/model-00007-0.95798-0.58974-0.82463-0.60000.h5\n",
            "26/26 [==============================] - 120s 5s/step - loss: 0.9580 - categorical_accuracy: 0.5897 - val_loss: 0.8246 - val_categorical_accuracy: 0.6000 - lr: 0.0010\n",
            "Epoch 8/30\n",
            "26/26 [==============================] - ETA: 0s - loss: 0.8932 - categorical_accuracy: 0.5701\n",
            "Epoch 8: saving model to model_init_conv_gru_2023-04-0816_09_56.565715/model-00008-0.89322-0.57014-0.80744-0.70000.h5\n",
            "26/26 [==============================] - 119s 5s/step - loss: 0.8932 - categorical_accuracy: 0.5701 - val_loss: 0.8074 - val_categorical_accuracy: 0.7000 - lr: 0.0010\n",
            "Epoch 9/30\n",
            "26/26 [==============================] - ETA: 0s - loss: 0.8041 - categorical_accuracy: 0.6531\n",
            "Epoch 9: saving model to model_init_conv_gru_2023-04-0816_09_56.565715/model-00009-0.80407-0.65309-0.77672-0.69000.h5\n",
            "26/26 [==============================] - 120s 5s/step - loss: 0.8041 - categorical_accuracy: 0.6531 - val_loss: 0.7767 - val_categorical_accuracy: 0.6900 - lr: 0.0010\n",
            "Epoch 10/30\n",
            "26/26 [==============================] - ETA: 0s - loss: 0.7112 - categorical_accuracy: 0.7285\n",
            "Epoch 10: saving model to model_init_conv_gru_2023-04-0816_09_56.565715/model-00010-0.71122-0.72851-0.69231-0.72000.h5\n",
            "26/26 [==============================] - 119s 5s/step - loss: 0.7112 - categorical_accuracy: 0.7285 - val_loss: 0.6923 - val_categorical_accuracy: 0.7200 - lr: 0.0010\n",
            "Epoch 11/30\n",
            "26/26 [==============================] - ETA: 0s - loss: 0.6058 - categorical_accuracy: 0.7677\n",
            "Epoch 11: saving model to model_init_conv_gru_2023-04-0816_09_56.565715/model-00011-0.60584-0.76772-0.59059-0.78000.h5\n",
            "26/26 [==============================] - 138s 6s/step - loss: 0.6058 - categorical_accuracy: 0.7677 - val_loss: 0.5906 - val_categorical_accuracy: 0.7800 - lr: 0.0010\n",
            "Epoch 12/30\n",
            "26/26 [==============================] - ETA: 0s - loss: 0.5716 - categorical_accuracy: 0.7828\n",
            "Epoch 12: saving model to model_init_conv_gru_2023-04-0816_09_56.565715/model-00012-0.57160-0.78281-0.57465-0.76000.h5\n",
            "26/26 [==============================] - 120s 5s/step - loss: 0.5716 - categorical_accuracy: 0.7828 - val_loss: 0.5747 - val_categorical_accuracy: 0.7600 - lr: 0.0010\n",
            "Epoch 13/30\n",
            "26/26 [==============================] - ETA: 0s - loss: 0.5319 - categorical_accuracy: 0.8039\n",
            "Epoch 13: saving model to model_init_conv_gru_2023-04-0816_09_56.565715/model-00013-0.53185-0.80392-0.70679-0.66000.h5\n",
            "26/26 [==============================] - 117s 5s/step - loss: 0.5319 - categorical_accuracy: 0.8039 - val_loss: 0.7068 - val_categorical_accuracy: 0.6600 - lr: 0.0010\n",
            "Epoch 14/30\n",
            "26/26 [==============================] - ETA: 0s - loss: 0.6016 - categorical_accuracy: 0.7466\n",
            "Epoch 14: saving model to model_init_conv_gru_2023-04-0816_09_56.565715/model-00014-0.60160-0.74661-0.54219-0.79000.h5\n",
            "26/26 [==============================] - 145s 6s/step - loss: 0.6016 - categorical_accuracy: 0.7466 - val_loss: 0.5422 - val_categorical_accuracy: 0.7900 - lr: 0.0010\n",
            "Epoch 15/30\n",
            "26/26 [==============================] - ETA: 0s - loss: 0.5294 - categorical_accuracy: 0.7828\n",
            "Epoch 15: saving model to model_init_conv_gru_2023-04-0816_09_56.565715/model-00015-0.52938-0.78281-0.61748-0.74000.h5\n",
            "26/26 [==============================] - 145s 6s/step - loss: 0.5294 - categorical_accuracy: 0.7828 - val_loss: 0.6175 - val_categorical_accuracy: 0.7400 - lr: 0.0010\n",
            "Epoch 16/30\n",
            "26/26 [==============================] - ETA: 0s - loss: 0.5157 - categorical_accuracy: 0.8115\n",
            "Epoch 16: saving model to model_init_conv_gru_2023-04-0816_09_56.565715/model-00016-0.51575-0.81146-0.48309-0.82000.h5\n",
            "26/26 [==============================] - 143s 6s/step - loss: 0.5157 - categorical_accuracy: 0.8115 - val_loss: 0.4831 - val_categorical_accuracy: 0.8200 - lr: 0.0010\n",
            "Epoch 17/30\n",
            "26/26 [==============================] - ETA: 0s - loss: 0.3864 - categorical_accuracy: 0.8688\n",
            "Epoch 17: saving model to model_init_conv_gru_2023-04-0816_09_56.565715/model-00017-0.38643-0.86878-0.43435-0.83000.h5\n",
            "26/26 [==============================] - 127s 5s/step - loss: 0.3864 - categorical_accuracy: 0.8688 - val_loss: 0.4343 - val_categorical_accuracy: 0.8300 - lr: 0.0010\n",
            "Epoch 18/30\n",
            "26/26 [==============================] - ETA: 0s - loss: 0.3728 - categorical_accuracy: 0.8658\n",
            "Epoch 18: saving model to model_init_conv_gru_2023-04-0816_09_56.565715/model-00018-0.37284-0.86576-0.50084-0.82000.h5\n",
            "26/26 [==============================] - 142s 6s/step - loss: 0.3728 - categorical_accuracy: 0.8658 - val_loss: 0.5008 - val_categorical_accuracy: 0.8200 - lr: 0.0010\n",
            "Epoch 19/30\n",
            "26/26 [==============================] - ETA: 0s - loss: 0.5215 - categorical_accuracy: 0.8069\n",
            "Epoch 19: saving model to model_init_conv_gru_2023-04-0816_09_56.565715/model-00019-0.52150-0.80694-0.54869-0.83000.h5\n",
            "\n",
            "Epoch 19: ReduceLROnPlateau reducing learning rate to 0.0005000000237487257.\n",
            "26/26 [==============================] - 128s 5s/step - loss: 0.5215 - categorical_accuracy: 0.8069 - val_loss: 0.5487 - val_categorical_accuracy: 0.8300 - lr: 0.0010\n",
            "Epoch 20/30\n",
            "26/26 [==============================] - ETA: 0s - loss: 0.2982 - categorical_accuracy: 0.9035\n",
            "Epoch 20: saving model to model_init_conv_gru_2023-04-0816_09_56.565715/model-00020-0.29824-0.90347-0.60623-0.79000.h5\n",
            "26/26 [==============================] - 125s 5s/step - loss: 0.2982 - categorical_accuracy: 0.9035 - val_loss: 0.6062 - val_categorical_accuracy: 0.7900 - lr: 5.0000e-04\n",
            "Epoch 21/30\n",
            "26/26 [==============================] - ETA: 0s - loss: 0.2725 - categorical_accuracy: 0.9095\n",
            "Epoch 21: saving model to model_init_conv_gru_2023-04-0816_09_56.565715/model-00021-0.27248-0.90950-0.49085-0.84000.h5\n",
            "\n",
            "Epoch 21: ReduceLROnPlateau reducing learning rate to 0.0002500000118743628.\n",
            "26/26 [==============================] - 128s 5s/step - loss: 0.2725 - categorical_accuracy: 0.9095 - val_loss: 0.4908 - val_categorical_accuracy: 0.8400 - lr: 5.0000e-04\n",
            "Epoch 22/30\n",
            "26/26 [==============================] - ETA: 0s - loss: 0.2205 - categorical_accuracy: 0.9382\n",
            "Epoch 22: saving model to model_init_conv_gru_2023-04-0816_09_56.565715/model-00022-0.22053-0.93816-0.48234-0.84000.h5\n",
            "26/26 [==============================] - 129s 5s/step - loss: 0.2205 - categorical_accuracy: 0.9382 - val_loss: 0.4823 - val_categorical_accuracy: 0.8400 - lr: 2.5000e-04\n",
            "Epoch 23/30\n",
            "26/26 [==============================] - ETA: 0s - loss: 0.2085 - categorical_accuracy: 0.9457\n",
            "Epoch 23: saving model to model_init_conv_gru_2023-04-0816_09_56.565715/model-00023-0.20854-0.94570-0.45408-0.88000.h5\n",
            "\n",
            "Epoch 23: ReduceLROnPlateau reducing learning rate to 0.0001250000059371814.\n",
            "26/26 [==============================] - 131s 5s/step - loss: 0.2085 - categorical_accuracy: 0.9457 - val_loss: 0.4541 - val_categorical_accuracy: 0.8800 - lr: 2.5000e-04\n",
            "Epoch 24/30\n",
            "26/26 [==============================] - ETA: 0s - loss: 0.1670 - categorical_accuracy: 0.9608\n",
            "Epoch 24: saving model to model_init_conv_gru_2023-04-0816_09_56.565715/model-00024-0.16698-0.96078-0.55883-0.82000.h5\n",
            "26/26 [==============================] - 130s 5s/step - loss: 0.1670 - categorical_accuracy: 0.9608 - val_loss: 0.5588 - val_categorical_accuracy: 0.8200 - lr: 1.2500e-04\n",
            "Epoch 25/30\n",
            "26/26 [==============================] - ETA: 0s - loss: 0.1620 - categorical_accuracy: 0.9638\n",
            "Epoch 25: saving model to model_init_conv_gru_2023-04-0816_09_56.565715/model-00025-0.16195-0.96380-0.50135-0.83000.h5\n",
            "\n",
            "Epoch 25: ReduceLROnPlateau reducing learning rate to 6.25000029685907e-05.\n",
            "26/26 [==============================] - 145s 6s/step - loss: 0.1620 - categorical_accuracy: 0.9638 - val_loss: 0.5014 - val_categorical_accuracy: 0.8300 - lr: 1.2500e-04\n",
            "Epoch 26/30\n",
            "26/26 [==============================] - ETA: 0s - loss: 0.1561 - categorical_accuracy: 0.9638\n",
            "Epoch 26: saving model to model_init_conv_gru_2023-04-0816_09_56.565715/model-00026-0.15610-0.96380-0.50485-0.85000.h5\n",
            "26/26 [==============================] - 145s 6s/step - loss: 0.1561 - categorical_accuracy: 0.9638 - val_loss: 0.5049 - val_categorical_accuracy: 0.8500 - lr: 6.2500e-05\n",
            "Epoch 27/30\n",
            "26/26 [==============================] - ETA: 0s - loss: 0.1375 - categorical_accuracy: 0.9804\n",
            "Epoch 27: saving model to model_init_conv_gru_2023-04-0816_09_56.565715/model-00027-0.13754-0.98039-0.39624-0.86000.h5\n",
            "26/26 [==============================] - 145s 6s/step - loss: 0.1375 - categorical_accuracy: 0.9804 - val_loss: 0.3962 - val_categorical_accuracy: 0.8600 - lr: 6.2500e-05\n",
            "Epoch 28/30\n",
            "26/26 [==============================] - ETA: 0s - loss: 0.1490 - categorical_accuracy: 0.9668\n",
            "Epoch 28: saving model to model_init_conv_gru_2023-04-0816_09_56.565715/model-00028-0.14902-0.96682-0.66427-0.80000.h5\n",
            "26/26 [==============================] - 129s 5s/step - loss: 0.1490 - categorical_accuracy: 0.9668 - val_loss: 0.6643 - val_categorical_accuracy: 0.8000 - lr: 6.2500e-05\n",
            "Epoch 29/30\n",
            "26/26 [==============================] - ETA: 0s - loss: 0.1355 - categorical_accuracy: 0.9819\n",
            "Epoch 29: saving model to model_init_conv_gru_2023-04-0816_09_56.565715/model-00029-0.13555-0.98190-0.49048-0.84000.h5\n",
            "\n",
            "Epoch 29: ReduceLROnPlateau reducing learning rate to 3.125000148429535e-05.\n",
            "26/26 [==============================] - 127s 5s/step - loss: 0.1355 - categorical_accuracy: 0.9819 - val_loss: 0.4905 - val_categorical_accuracy: 0.8400 - lr: 6.2500e-05\n",
            "Epoch 30/30\n",
            "26/26 [==============================] - ETA: 0s - loss: 0.1447 - categorical_accuracy: 0.9759\n",
            "Epoch 30: saving model to model_init_conv_gru_2023-04-0816_09_56.565715/model-00030-0.14471-0.97587-0.55543-0.83000.h5\n",
            "26/26 [==============================] - 127s 5s/step - loss: 0.1447 - categorical_accuracy: 0.9759 - val_loss: 0.5554 - val_categorical_accuracy: 0.8300 - lr: 3.1250e-05\n"
          ]
        },
        {
          "output_type": "execute_result",
          "data": {
            "text/plain": [
              "<keras.callbacks.History at 0x7f19621de1f0>"
            ]
          },
          "metadata": {},
          "execution_count": 15
        }
      ]
    },
    {
      "cell_type": "markdown",
      "source": [
        "### Choosing model_three(CNN+RNN) as final model."
      ],
      "metadata": {
        "id": "NaFq1f4wTPJ6"
      }
    },
    {
      "cell_type": "markdown",
      "source": [
        "## Prediction"
      ],
      "metadata": {
        "id": "pwqi0rOQTk9X"
      }
    },
    {
      "cell_type": "code",
      "source": [
        "#assigning model_three as final model and predicting on a single sequence\n",
        "from tensorflow.keras.models import load_model\n",
        "from google.colab import files  \n",
        "final_model = load_model('CNN_RNN_FINAL.h5')"
      ],
      "metadata": {
        "id": "WG_YLKKSNEq1"
      },
      "execution_count": 16,
      "outputs": []
    },
    {
      "cell_type": "code",
      "source": [
        "#preprocessing single video sequence to make prediction upon\n",
        "img_idx = [0,1,2,4,6,8,10,12,14,16,18,20,22,24,26,27,28,29]\n",
        "video=[]\n",
        "imgs = os.listdir('/content/Project_data/train/WIN_20180907_15_38_35_Pro_Thumbs Down_new'.split(';')[0])\n",
        "for idx,item in enumerate(img_idx):\n",
        "  image = imread('/content/Project_data/train/WIN_20180907_15_38_35_Pro_Thumbs Down_new'.strip().split(';')[0]+'/'+imgs[item]).astype(np.float32)\n",
        "  if image.shape[1] == 160:\n",
        "    image = resize(image[:,20:140,:],(120,120)).astype(np.float32)\n",
        "  else:\n",
        "    image = resize(image,(120,120)).astype(np.float32)\n",
        "  image[:,:,0] -= 104\n",
        "  image[:,:,1] -= 117\n",
        "  image[:,:,2] -= 123\n",
        "  video.append(image)                 \n",
        "video = np.expand_dims(np.array(video), axis=0)\n",
        "video.shape"
      ],
      "metadata": {
        "colab": {
          "base_uri": "https://localhost:8080/"
        },
        "id": "b49uNS8CNxc-",
        "outputId": "4dcc55a3-bb1e-40d6-e4ed-fd79eb4eff42"
      },
      "execution_count": 20,
      "outputs": [
        {
          "output_type": "execute_result",
          "data": {
            "text/plain": [
              "(1, 18, 120, 120, 3)"
            ]
          },
          "metadata": {},
          "execution_count": 20
        }
      ]
    },
    {
      "cell_type": "code",
      "source": [
        "final_model.predict(video)"
      ],
      "metadata": {
        "id": "JcIF6IiQstjL",
        "colab": {
          "base_uri": "https://localhost:8080/"
        },
        "outputId": "d37d46b4-8d4b-4dc1-a0e3-1773f23d517b"
      },
      "execution_count": 21,
      "outputs": [
        {
          "output_type": "stream",
          "name": "stdout",
          "text": [
            "1/1 [==============================] - 0s 30ms/step\n"
          ]
        },
        {
          "output_type": "execute_result",
          "data": {
            "text/plain": [
              "array([[1.6398988e-04, 1.0931127e-04, 2.5824511e-03, 8.9063227e-01,\n",
              "        1.0651199e-01]], dtype=float32)"
            ]
          },
          "metadata": {},
          "execution_count": 21
        }
      ]
    },
    {
      "cell_type": "markdown",
      "source": [
        "model predicting thumbs down gesture video as thumbs down(category:3)"
      ],
      "metadata": {
        "id": "Cv69Kru-S5Pn"
      }
    },
    {
      "cell_type": "code",
      "source": [],
      "metadata": {
        "id": "bHNXJHus99Ln"
      },
      "execution_count": null,
      "outputs": []
    }
  ],
  "metadata": {
    "kernelspec": {
      "display_name": "Python 3",
      "language": "python",
      "name": "python3"
    },
    "language_info": {
      "codemirror_mode": {
        "name": "ipython",
        "version": 3
      },
      "file_extension": ".py",
      "mimetype": "text/x-python",
      "name": "python",
      "nbconvert_exporter": "python",
      "pygments_lexer": "ipython3",
      "version": "3.7.4"
    },
    "colab": {
      "provenance": []
    },
    "accelerator": "GPU",
    "gpuClass": "standard"
  },
  "nbformat": 4,
  "nbformat_minor": 0
}